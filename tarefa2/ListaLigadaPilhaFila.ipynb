{
 "cells": [
  {
   "cell_type": "markdown",
   "metadata": {},
   "source": [
    "# Listas ligadas"
   ]
  },
  {
   "cell_type": "code",
   "execution_count": 1,
   "metadata": {
    "collapsed": true
   },
   "outputs": [],
   "source": [
    "    # adiciona elemento ao final da lista ligara       \n",
    "class LinkedList:\n",
    "\n",
    "    # Classe __Node é usada internamente por LinkedList.\n",
    "    # Não é visível de fora da classe devido aos dois underscores\n",
    "    class __Node:\n",
    "        def __init__(self,item,next=None):\n",
    "            self.item = item\n",
    "            self.next = next\n",
    "\n",
    "        def getItem(self):\n",
    "            return self.item\n",
    "\n",
    "        def getNext(self):\n",
    "            return self.next\n",
    "\n",
    "        def setItem(self, item):\n",
    "            self.item = item\n",
    "\n",
    "        def setNext(self,next):\n",
    "            self.next = next\n",
    "\n",
    "    # construtor da classe LinkedList        \n",
    "    def __init__(self,contents=[]):\n",
    "    # Lista com cabeça e dois ponteiros: um para o inicio da lista, um para o final.\n",
    "    # Também mantem-se um contador de elementos da lista\n",
    "    # Nó cabeça está sempre na primeira posição da lista e não contem item. \n",
    "        self.first = LinkedList.__Node(None,None)\n",
    "        self.last = self.first\n",
    "        self.numItems = 0\n",
    "\n",
    "        for e in contents:\n",
    "            self.append(e) # append da lista ligada\n",
    "            \n",
    "    def append(self,item):\n",
    "        node = LinkedList.__Node(item)\n",
    "        self.last.setNext(node)\n",
    "        self.last = node\n",
    "        self.numItems += 1\n",
    "\n",
    "        \n",
    "    def isEmpty(self):\n",
    "        return self.numItems == 0\n",
    "    \n",
    "    # sobrecardo do método get; retorna o valor de posicao i, a = x[i]    \n",
    "    def __getitem__(self,index):\n",
    "        if index >= 0 and index < self.numItems:\n",
    "            cursor = self.first.getNext()\n",
    "            for i in range(index):\n",
    "                cursor = cursor.getNext()\n",
    "\n",
    "            return cursor.getItem()\n",
    "\n",
    "        raise IndexError(\"LinkedList index out of range\")\n",
    "\n",
    "    # sobrecarga do método set; atualiza valor da posicao i x[i]=a        \n",
    "    def __setitem__(self,index,val):\n",
    "        if index >= 0 and index < self.numItems:\n",
    "            cursor = self.first.getNext()\n",
    "            for i in range(index):\n",
    "                cursor = cursor.getNext()\n",
    "\n",
    "            cursor.setItem(val)\n",
    "            return\n",
    "\n",
    "        raise IndexError(\"LinkedList assignment index out of range\")\n",
    "        \n",
    "    # concatenação como sobrecarga do operador +    \n",
    "    def __add__(self,other):\n",
    "        if type(self) != type(other):\n",
    "            raise TypeError(\"Concatenate undefined for str(type(self)) + \" + \" + str(type(other))\")\n",
    "\n",
    "        result = LinkedList()\n",
    "\n",
    "        #copia primeira lista    \n",
    "        cursor = self.first.getNext()\n",
    "        while cursor != None:\n",
    "            result.append(cursor.getItem())\n",
    "            cursor = cursor.getNext()\n",
    "\n",
    "        #copia segunda lista\n",
    "        cursor = other.first.getNext()\n",
    "        while cursor != None:\n",
    "            result.append(cursor.getItem())\n",
    "            cursor = cursor.getNext()\n",
    "\n",
    "        return result\n",
    "    \n",
    "    # remoção como sobrecarga do operador del\n",
    "    def __delitem__(self,item):\n",
    "        if self.isEmpty():\n",
    "            raise TypeError(\"Attempt to delete from empty list\")\n",
    "            \n",
    "            # elemento a ser eliminado é o primeiro\n",
    "        if self.first.getItem() == item:  \n",
    "            self.first = self.first.getNext()\n",
    "            self.numItems -= 1\n",
    "            \n",
    "            # elemento a ser eliminado não é o primeiro\n",
    "        else:\n",
    "            previous = self.first\n",
    "            current = self.first.getNext()\n",
    "            \n",
    "            while current != None:\n",
    "                if current.getItem() == item:\n",
    "                    previous.setNext(current.getNext())\n",
    "                    self.numItems -= 1\n",
    "                    # verifica se elemento é o ultimo\n",
    "                    if self.last == current:  \n",
    "                        self.last = previous \n",
    "                    break\n",
    "                else:\n",
    "                    previous = current\n",
    "                    current = current.getNext()\n",
    "\n",
    "            if current == None:\n",
    "                raise IndexError(f\"LinkedList does not have {item}\")\n",
    "    \n",
    "    \n",
    "    # imprime lista\n",
    "    def printList(self):\n",
    "        if self.numItems == 0:\n",
    "            print(\"Empty list\")\n",
    "        else:\n",
    "            cursor = self.first.getNext()\n",
    "            for i in range(self.numItems):\n",
    "                print(f\"{cursor.getItem()}\")\n",
    "                cursor = cursor.getNext()\n",
    "        "
   ]
  },
  {
   "cell_type": "markdown",
   "metadata": {},
   "source": [
    "Criando um lista ligada com os elementos 1, 2 e 3"
   ]
  },
  {
   "cell_type": "code",
   "execution_count": 2,
   "metadata": {
    "collapsed": true
   },
   "outputs": [],
   "source": [
    "l = LinkedList([1,2,3])  "
   ]
  },
  {
   "cell_type": "markdown",
   "metadata": {},
   "source": [
    "Imprime conteúdo da lista"
   ]
  },
  {
   "cell_type": "code",
   "execution_count": 3,
   "metadata": {},
   "outputs": [
    {
     "name": "stdout",
     "output_type": "stream",
     "text": [
      "1\n",
      "2\n",
      "3\n"
     ]
    }
   ],
   "source": [
    "l.printList()"
   ]
  },
  {
   "cell_type": "markdown",
   "metadata": {},
   "source": [
    "Adicionando o item 4 "
   ]
  },
  {
   "cell_type": "code",
   "execution_count": 4,
   "metadata": {
    "collapsed": true
   },
   "outputs": [],
   "source": [
    "l.append(4)"
   ]
  },
  {
   "cell_type": "code",
   "execution_count": 5,
   "metadata": {},
   "outputs": [
    {
     "name": "stdout",
     "output_type": "stream",
     "text": [
      "1\n",
      "2\n",
      "3\n",
      "4\n"
     ]
    }
   ],
   "source": [
    "l.printList()"
   ]
  },
  {
   "cell_type": "markdown",
   "metadata": {},
   "source": [
    "Usando o método get sobrecarregado"
   ]
  },
  {
   "cell_type": "code",
   "execution_count": 6,
   "metadata": {
    "collapsed": true
   },
   "outputs": [],
   "source": [
    "a = l[1]"
   ]
  },
  {
   "cell_type": "code",
   "execution_count": 7,
   "metadata": {
    "scrolled": true
   },
   "outputs": [
    {
     "data": {
      "text/plain": [
       "2"
      ]
     },
     "execution_count": 7,
     "metadata": {},
     "output_type": "execute_result"
    }
   ],
   "source": [
    "a"
   ]
  },
  {
   "cell_type": "markdown",
   "metadata": {},
   "source": [
    "Mesmo que chamar o método"
   ]
  },
  {
   "cell_type": "code",
   "execution_count": 8,
   "metadata": {
    "collapsed": true
   },
   "outputs": [],
   "source": [
    "a = l.__getitem__(1)"
   ]
  },
  {
   "cell_type": "code",
   "execution_count": 9,
   "metadata": {},
   "outputs": [
    {
     "data": {
      "text/plain": [
       "2"
      ]
     },
     "execution_count": 9,
     "metadata": {},
     "output_type": "execute_result"
    }
   ],
   "source": [
    "a"
   ]
  },
  {
   "cell_type": "markdown",
   "metadata": {},
   "source": [
    "Sobrecarga do método set. Corresponde a chamar \\_\\_setitem\\_\\_(0,0)"
   ]
  },
  {
   "cell_type": "code",
   "execution_count": 10,
   "metadata": {
    "collapsed": true
   },
   "outputs": [],
   "source": [
    "l[0] = 0"
   ]
  },
  {
   "cell_type": "code",
   "execution_count": 11,
   "metadata": {},
   "outputs": [
    {
     "name": "stdout",
     "output_type": "stream",
     "text": [
      "0\n",
      "2\n",
      "3\n",
      "4\n"
     ]
    }
   ],
   "source": [
    "l.printList()"
   ]
  },
  {
   "cell_type": "markdown",
   "metadata": {},
   "source": [
    "Criação de outra lista"
   ]
  },
  {
   "cell_type": "code",
   "execution_count": 12,
   "metadata": {
    "collapsed": true
   },
   "outputs": [],
   "source": [
    "m = LinkedList([5,'a'])"
   ]
  },
  {
   "cell_type": "code",
   "execution_count": 13,
   "metadata": {},
   "outputs": [
    {
     "name": "stdout",
     "output_type": "stream",
     "text": [
      "5\n",
      "a\n"
     ]
    }
   ],
   "source": [
    "m.printList()"
   ]
  },
  {
   "cell_type": "markdown",
   "metadata": {},
   "source": [
    "Concatenação das listas l e m usando a sobrecarga; mesmo que chamar l.\\_\\_add(m)\\_\\_"
   ]
  },
  {
   "cell_type": "code",
   "execution_count": 14,
   "metadata": {
    "collapsed": true
   },
   "outputs": [],
   "source": [
    "n = l + m"
   ]
  },
  {
   "cell_type": "code",
   "execution_count": 15,
   "metadata": {},
   "outputs": [
    {
     "name": "stdout",
     "output_type": "stream",
     "text": [
      "0\n",
      "2\n",
      "3\n",
      "4\n",
      "5\n",
      "a\n"
     ]
    }
   ],
   "source": [
    "n.printList()"
   ]
  },
  {
   "cell_type": "markdown",
   "metadata": {},
   "source": [
    "remove elemento 2"
   ]
  },
  {
   "cell_type": "code",
   "execution_count": 16,
   "metadata": {
    "collapsed": true
   },
   "outputs": [],
   "source": [
    "del n[2]"
   ]
  },
  {
   "cell_type": "code",
   "execution_count": 17,
   "metadata": {},
   "outputs": [
    {
     "name": "stdout",
     "output_type": "stream",
     "text": [
      "0\n",
      "3\n",
      "4\n",
      "5\n",
      "a\n"
     ]
    }
   ],
   "source": [
    "n.printList()"
   ]
  },
  {
   "cell_type": "markdown",
   "metadata": {},
   "source": [
    "tenta remover elemento inexistente"
   ]
  },
  {
   "cell_type": "code",
   "execution_count": 18,
   "metadata": {},
   "outputs": [
    {
     "ename": "IndexError",
     "evalue": "LinkedList does not have 8",
     "output_type": "error",
     "traceback": [
      "\u001b[1;31m---------------------------------------------------------------------------\u001b[0m",
      "\u001b[1;31mIndexError\u001b[0m                                Traceback (most recent call last)",
      "\u001b[1;32m<ipython-input-18-4da49858e6b3>\u001b[0m in \u001b[0;36m<module>\u001b[1;34m()\u001b[0m\n\u001b[1;32m----> 1\u001b[1;33m \u001b[1;32mdel\u001b[0m \u001b[0mn\u001b[0m\u001b[1;33m[\u001b[0m\u001b[1;36m8\u001b[0m\u001b[1;33m]\u001b[0m\u001b[1;33m\u001b[0m\u001b[0m\n\u001b[0m",
      "\u001b[1;32m<ipython-input-1-ba8aad2cc8d3>\u001b[0m in \u001b[0;36m__delitem__\u001b[1;34m(self, item)\u001b[0m\n\u001b[0;32m    115\u001b[0m \u001b[1;33m\u001b[0m\u001b[0m\n\u001b[0;32m    116\u001b[0m             \u001b[1;32mif\u001b[0m \u001b[0mcurrent\u001b[0m \u001b[1;33m==\u001b[0m \u001b[1;32mNone\u001b[0m\u001b[1;33m:\u001b[0m\u001b[1;33m\u001b[0m\u001b[0m\n\u001b[1;32m--> 117\u001b[1;33m                 \u001b[1;32mraise\u001b[0m \u001b[0mIndexError\u001b[0m\u001b[1;33m(\u001b[0m\u001b[1;34mf\"LinkedList does not have {item}\"\u001b[0m\u001b[1;33m)\u001b[0m\u001b[1;33m\u001b[0m\u001b[0m\n\u001b[0m\u001b[0;32m    118\u001b[0m \u001b[1;33m\u001b[0m\u001b[0m\n\u001b[0;32m    119\u001b[0m \u001b[1;33m\u001b[0m\u001b[0m\n",
      "\u001b[1;31mIndexError\u001b[0m: LinkedList does not have 8"
     ]
    }
   ],
   "source": [
    "del n[8]"
   ]
  },
  {
   "cell_type": "markdown",
   "metadata": {},
   "source": [
    "remove elemento a"
   ]
  },
  {
   "cell_type": "code",
   "execution_count": 23,
   "metadata": {},
   "outputs": [
    {
     "ename": "IndexError",
     "evalue": "LinkedList does not have a",
     "output_type": "error",
     "traceback": [
      "\u001b[1;31m---------------------------------------------------------------------------\u001b[0m",
      "\u001b[1;31mIndexError\u001b[0m                                Traceback (most recent call last)",
      "\u001b[1;32m<ipython-input-23-564d8f9fa89a>\u001b[0m in \u001b[0;36m<module>\u001b[1;34m()\u001b[0m\n\u001b[1;32m----> 1\u001b[1;33m \u001b[1;32mdel\u001b[0m \u001b[0mn\u001b[0m\u001b[1;33m[\u001b[0m\u001b[1;34m'a'\u001b[0m\u001b[1;33m]\u001b[0m\u001b[1;33m\u001b[0m\u001b[0m\n\u001b[0m",
      "\u001b[1;32m<ipython-input-1-ba8aad2cc8d3>\u001b[0m in \u001b[0;36m__delitem__\u001b[1;34m(self, item)\u001b[0m\n\u001b[0;32m    115\u001b[0m \u001b[1;33m\u001b[0m\u001b[0m\n\u001b[0;32m    116\u001b[0m             \u001b[1;32mif\u001b[0m \u001b[0mcurrent\u001b[0m \u001b[1;33m==\u001b[0m \u001b[1;32mNone\u001b[0m\u001b[1;33m:\u001b[0m\u001b[1;33m\u001b[0m\u001b[0m\n\u001b[1;32m--> 117\u001b[1;33m                 \u001b[1;32mraise\u001b[0m \u001b[0mIndexError\u001b[0m\u001b[1;33m(\u001b[0m\u001b[1;34mf\"LinkedList does not have {item}\"\u001b[0m\u001b[1;33m)\u001b[0m\u001b[1;33m\u001b[0m\u001b[0m\n\u001b[0m\u001b[0;32m    118\u001b[0m \u001b[1;33m\u001b[0m\u001b[0m\n\u001b[0;32m    119\u001b[0m \u001b[1;33m\u001b[0m\u001b[0m\n",
      "\u001b[1;31mIndexError\u001b[0m: LinkedList does not have a"
     ]
    }
   ],
   "source": [
    "del n['a']"
   ]
  },
  {
   "cell_type": "code",
   "execution_count": 22,
   "metadata": {},
   "outputs": [
    {
     "name": "stdout",
     "output_type": "stream",
     "text": [
      "0\n",
      "3\n",
      "4\n",
      "5\n"
     ]
    }
   ],
   "source": [
    "n.printList()"
   ]
  },
  {
   "cell_type": "markdown",
   "metadata": {},
   "source": [
    "tentativa de instanciar \\_\\_Node"
   ]
  },
  {
   "cell_type": "code",
   "execution_count": 24,
   "metadata": {},
   "outputs": [
    {
     "ename": "NameError",
     "evalue": "name '__Node' is not defined",
     "output_type": "error",
     "traceback": [
      "\u001b[1;31m---------------------------------------------------------------------------\u001b[0m",
      "\u001b[1;31mNameError\u001b[0m                                 Traceback (most recent call last)",
      "\u001b[1;32m<ipython-input-24-c4f177775977>\u001b[0m in \u001b[0;36m<module>\u001b[1;34m()\u001b[0m\n\u001b[1;32m----> 1\u001b[1;33m \u001b[0mk\u001b[0m \u001b[1;33m=\u001b[0m \u001b[0m__Node\u001b[0m\u001b[1;33m(\u001b[0m\u001b[1;36m2\u001b[0m\u001b[1;33m)\u001b[0m  \u001b[1;31m# tentativa de instanciar Node\u001b[0m\u001b[1;33m\u001b[0m\u001b[0m\n\u001b[0m",
      "\u001b[1;31mNameError\u001b[0m: name '__Node' is not defined"
     ]
    }
   ],
   "source": [
    "k = __Node(2)  # tentativa de instanciar Node"
   ]
  },
  {
   "cell_type": "markdown",
   "metadata": {},
   "source": [
    "## Complexidade das operações"
   ]
  },
  {
   "cell_type": "markdown",
   "metadata": {},
   "source": [
    "| Operação        |  Complexidade| Uso          |   Descrição     |\n",
    "|-----------------|:------------:|:------------:|------------------:|\n",
    "|Criação da lista | O(len(y))    | x = LinkedList(y)    |  chama o construtor \\_\\_init\\_\\_(y)|\n",
    "|get indexado     |  O(n)        |a = x[i]    | x.\\_\\_getitem\\_\\_(i)|\n",
    "|set indexado     | O(n)         |x[i] = a     | x.\\_\\_setitem\\_\\_(i,a) |\n",
    "|concatenação     | O(n)         |z = x + y     | z = x.\\_\\_add\\_\\_(y)|\n",
    "|isEmpty          |  O(1)        | s.isEmpty()  |retorna *True* se s está vazia|\n",
    "|adição de elemento| O(1)        | x.append(a) | x.append(a)|\n",
    "|insersão ordenada| O(n)         | x.insert(i,e)| x.insert(i,e) |\n",
    "|remoção         | O(n)          |del x[i] | x.\\_\\_delitem\\_\\_(i) |\n",
    "|igualdade       | O(n)          |x == y  | x.\\_\\_eq\\_\\_(y) |\n",
    "|iteração        | O(n)          | for a in x: | x.\\_\\_iter\\_\\_() |\n",
    "|tamanho         | O(1)          | len(x) | x.\\_\\_len\\_\\_()|\n",
    "|membro          | O(n)          | a in x | x.\\_\\_contains\\_\\_(a)|"
   ]
  },
  {
   "cell_type": "markdown",
   "metadata": {},
   "source": [
    "## Exercício"
   ]
  },
  {
   "cell_type": "markdown",
   "metadata": {},
   "source": [
    "Implemente as operações de igualdade, tamanho e membro. Use sobrecarga de operadores."
   ]
  },
  {
   "cell_type": "code",
   "execution_count": null,
   "metadata": {
    "collapsed": true
   },
   "outputs": [],
   "source": []
  },
  {
   "cell_type": "markdown",
   "metadata": {},
   "source": [
    "# A pilha"
   ]
  },
  {
   "cell_type": "markdown",
   "metadata": {},
   "source": [
    "Pilhas são estruturas *__LIFO__* *Last In/First Out*. O último item a ser adicionado (*push*) é o primeiro a ser retirado (*pop*). \n",
    "- Um pilha pode ser implementada de diferentes maneiras, por exemplo, por meio de uma **lista** ou de uma **lista ligada**."
   ]
  },
  {
   "cell_type": "code",
   "execution_count": 25,
   "metadata": {
    "collapsed": true
   },
   "outputs": [],
   "source": [
    "class Stack:\n",
    "    def __init__(self):\n",
    "        self.items = []  # pilha implementada usando lista\n",
    "\n",
    "        # remove item da pilha\n",
    "    def pop(self):\n",
    "        if self.isEmpty():\n",
    "            raise RuntimeError(\"Attempt to pop an empty stack\")\n",
    "\n",
    "        topIdx = len(self.items)-1  \n",
    "        item = self.items[topIdx]\n",
    "        del self.items[topIdx]\n",
    "        return item\n",
    "\n",
    "        # adiciona item na pilha\n",
    "    def push(self,item):\n",
    "        self.items.append(item)\n",
    "\n",
    "        # verifica topo, retorna mas não retira\n",
    "    def top(self):\n",
    "        if self.isEmpty():\n",
    "            raise RuntimeError(\"Attempt to get top of empty stack\")\n",
    "\n",
    "        topIdx = len(self.items)-1\n",
    "        return self.items[topIdx]\n",
    "\n",
    "    def isEmpty(self):\n",
    "        return len(self.items) == 0"
   ]
  },
  {
   "cell_type": "markdown",
   "metadata": {},
   "source": [
    "Criando uma pilha"
   ]
  },
  {
   "cell_type": "code",
   "execution_count": 26,
   "metadata": {
    "collapsed": true
   },
   "outputs": [],
   "source": [
    "s = Stack()  # pilha\n",
    "lst = list(range(10))  #lista [0,1,...,9]\n",
    "lst2 = []  # lista vazia"
   ]
  },
  {
   "cell_type": "markdown",
   "metadata": {},
   "source": [
    "insere elementos de lst na pilha"
   ]
  },
  {
   "cell_type": "code",
   "execution_count": 27,
   "metadata": {
    "collapsed": true
   },
   "outputs": [],
   "source": [
    "for k in lst:\n",
    "    s.push(k)"
   ]
  },
  {
   "cell_type": "markdown",
   "metadata": {},
   "source": [
    "mostra topo da pilha"
   ]
  },
  {
   "cell_type": "code",
   "execution_count": 28,
   "metadata": {},
   "outputs": [
    {
     "data": {
      "text/plain": [
       "9"
      ]
     },
     "execution_count": 28,
     "metadata": {},
     "output_type": "execute_result"
    }
   ],
   "source": [
    "s.top()"
   ]
  },
  {
   "cell_type": "markdown",
   "metadata": {},
   "source": [
    "esvazia pilha colocando itens na lista lst2"
   ]
  },
  {
   "cell_type": "code",
   "execution_count": 29,
   "metadata": {
    "collapsed": true
   },
   "outputs": [],
   "source": [
    "while not s.isEmpty():\n",
    "    lst2.append(s.pop())"
   ]
  },
  {
   "cell_type": "code",
   "execution_count": 30,
   "metadata": {},
   "outputs": [
    {
     "data": {
      "text/plain": [
       "[9, 8, 7, 6, 5, 4, 3, 2, 1, 0]"
      ]
     },
     "execution_count": 30,
     "metadata": {},
     "output_type": "execute_result"
    }
   ],
   "source": [
    "lst2"
   ]
  },
  {
   "cell_type": "markdown",
   "metadata": {},
   "source": [
    "tentativa de extrair elemento da pilha"
   ]
  },
  {
   "cell_type": "code",
   "execution_count": 31,
   "metadata": {},
   "outputs": [
    {
     "ename": "RuntimeError",
     "evalue": "Attempt to pop an empty stack",
     "output_type": "error",
     "traceback": [
      "\u001b[1;31m---------------------------------------------------------------------------\u001b[0m",
      "\u001b[1;31mRuntimeError\u001b[0m                              Traceback (most recent call last)",
      "\u001b[1;32m<ipython-input-31-e76f41daca5e>\u001b[0m in \u001b[0;36m<module>\u001b[1;34m()\u001b[0m\n\u001b[1;32m----> 1\u001b[1;33m \u001b[0ms\u001b[0m\u001b[1;33m.\u001b[0m\u001b[0mpop\u001b[0m\u001b[1;33m(\u001b[0m\u001b[1;33m)\u001b[0m\u001b[1;33m\u001b[0m\u001b[0m\n\u001b[0m",
      "\u001b[1;32m<ipython-input-25-1895f5b4bf42>\u001b[0m in \u001b[0;36mpop\u001b[1;34m(self)\u001b[0m\n\u001b[0;32m      6\u001b[0m     \u001b[1;32mdef\u001b[0m \u001b[0mpop\u001b[0m\u001b[1;33m(\u001b[0m\u001b[0mself\u001b[0m\u001b[1;33m)\u001b[0m\u001b[1;33m:\u001b[0m\u001b[1;33m\u001b[0m\u001b[0m\n\u001b[0;32m      7\u001b[0m         \u001b[1;32mif\u001b[0m \u001b[0mself\u001b[0m\u001b[1;33m.\u001b[0m\u001b[0misEmpty\u001b[0m\u001b[1;33m(\u001b[0m\u001b[1;33m)\u001b[0m\u001b[1;33m:\u001b[0m\u001b[1;33m\u001b[0m\u001b[0m\n\u001b[1;32m----> 8\u001b[1;33m             \u001b[1;32mraise\u001b[0m \u001b[0mRuntimeError\u001b[0m\u001b[1;33m(\u001b[0m\u001b[1;34m\"Attempt to pop an empty stack\"\u001b[0m\u001b[1;33m)\u001b[0m\u001b[1;33m\u001b[0m\u001b[0m\n\u001b[0m\u001b[0;32m      9\u001b[0m \u001b[1;33m\u001b[0m\u001b[0m\n\u001b[0;32m     10\u001b[0m         \u001b[0mtopIdx\u001b[0m \u001b[1;33m=\u001b[0m \u001b[0mlen\u001b[0m\u001b[1;33m(\u001b[0m\u001b[0mself\u001b[0m\u001b[1;33m.\u001b[0m\u001b[0mitems\u001b[0m\u001b[1;33m)\u001b[0m\u001b[1;33m-\u001b[0m\u001b[1;36m1\u001b[0m\u001b[1;33m\u001b[0m\u001b[0m\n",
      "\u001b[1;31mRuntimeError\u001b[0m: Attempt to pop an empty stack"
     ]
    }
   ],
   "source": [
    "s.pop()"
   ]
  },
  {
   "cell_type": "markdown",
   "metadata": {},
   "source": [
    "### Complexidade das operações"
   ]
  },
  {
   "cell_type": "markdown",
   "metadata": {},
   "source": [
    "| Operação        |  Complexidade| Uso          |   Descrição     |\n",
    "|-----------------|:------------:|:------------:|------------------:|\n",
    "|Criação da pilha | O(1)         | s=Stack()    |  chama o construtor|\n",
    "|pop              |  O(1)        | a=s.pop()    | retorna o último item adicionado e o remove de s|\n",
    "|push             | O(1)         |s.push(a)     | adiciona o item a à pilha s|\n",
    "|top              | O(1)         |a=s.top()     | retorna o topo da pilha sem remove-lo de s|\n",
    "|isEmpty          |  O(1)        | s.isEmpty()  |retorna *True* se s está vazia|"
   ]
  },
  {
   "cell_type": "markdown",
   "metadata": {},
   "source": [
    "## Exercício"
   ]
  },
  {
   "cell_type": "markdown",
   "metadata": {},
   "source": [
    "Atere o código da pilha trocando a lista por uma lista ligada (*LinkedList*)."
   ]
  },
  {
   "cell_type": "code",
   "execution_count": null,
   "metadata": {
    "collapsed": true
   },
   "outputs": [],
   "source": []
  },
  {
   "cell_type": "markdown",
   "metadata": {},
   "source": [
    "# A fila"
   ]
  },
  {
   "cell_type": "markdown",
   "metadata": {},
   "source": [
    "A fila é uma estrutura do tipo *__FIFO__* ou *First In/First Out*. O primeiro item adicionado, será o primeiro a ser removido."
   ]
  },
  {
   "cell_type": "code",
   "execution_count": 32,
   "metadata": {
    "collapsed": true
   },
   "outputs": [],
   "source": [
    "class Queue:\n",
    "    def __init__(self):\n",
    "        self.items = [] # fila implementada usando lista\n",
    "        self.frontIdx = 0\n",
    "\n",
    "        # método auxiliar para comprimir a lista\n",
    "    def __compress(self):\n",
    "        newlst = []\n",
    "        for i in range(self.frontIdx,len(self.items)):\n",
    "            newlst.append(self.items[i])\n",
    "\n",
    "        self.items = newlst\n",
    "        self.frontIdx = 0\n",
    "\n",
    "        # desinfileira\n",
    "    def dequeue(self):\n",
    "        if self.isEmpty():\n",
    "            raise RuntimeError(\"Attempt to dequeue an empty queue\")\n",
    "\n",
    "    # Quando mais metade da fila estiver vazia, chama-se __compress. \n",
    "    # Permite lista que implementa fila não crescer indefinidamente\n",
    "        if self.frontIdx * 2 > len(self.items):\n",
    "            self.__compress()\n",
    "\n",
    "        item = self.items[self.frontIdx]\n",
    "        self.frontIdx += 1\n",
    "        return item\n",
    "\n",
    "        # enfileira\n",
    "    def enqueue(self,item):\n",
    "        self.items.append(item)\n",
    "\n",
    "        # verifica frente, retorna não retira\n",
    "    def front(self):\n",
    "        if self.isEmpty():\n",
    "            raise RuntimeError(\"Attempt to access front of empty queue\")\n",
    "\n",
    "        return self.items[self.frontIdx]\n",
    "\n",
    "    def isEmpty(self):\n",
    "        return self.frontIdx == len(self.items)\n",
    "    \n",
    "    # metodo auxiliar (sobrecarga), para ver como funciona o redimensionamento da fila\n",
    "    def __len__(self):\n",
    "        return len(self.items)\n",
    "    "
   ]
  },
  {
   "cell_type": "markdown",
   "metadata": {},
   "source": [
    "Cria um fila"
   ]
  },
  {
   "cell_type": "code",
   "execution_count": 33,
   "metadata": {
    "collapsed": true
   },
   "outputs": [],
   "source": [
    "q = Queue()  # fila\n",
    "lst = list(range(10))  #lista [0,1,...,9] \n",
    "lst2 = []  # lista vazia"
   ]
  },
  {
   "cell_type": "markdown",
   "metadata": {},
   "source": [
    "adiciona elementos da lista à fila"
   ]
  },
  {
   "cell_type": "code",
   "execution_count": 34,
   "metadata": {
    "collapsed": true
   },
   "outputs": [],
   "source": [
    "for k in lst:\n",
    "    q.enqueue(k)"
   ]
  },
  {
   "cell_type": "markdown",
   "metadata": {},
   "source": [
    "verifica o primeiro elemento da fila"
   ]
  },
  {
   "cell_type": "code",
   "execution_count": 35,
   "metadata": {},
   "outputs": [
    {
     "data": {
      "text/plain": [
       "0"
      ]
     },
     "execution_count": 35,
     "metadata": {},
     "output_type": "execute_result"
    }
   ],
   "source": [
    "q.front()"
   ]
  },
  {
   "cell_type": "markdown",
   "metadata": {},
   "source": [
    "esvazia a fila mostrando o tamanho da lista"
   ]
  },
  {
   "cell_type": "code",
   "execution_count": 36,
   "metadata": {},
   "outputs": [
    {
     "name": "stdout",
     "output_type": "stream",
     "text": [
      "Elemento 0\n",
      "Tamanho da lista 10\n",
      "Elemento 1\n",
      "Tamanho da lista 10\n",
      "Elemento 2\n",
      "Tamanho da lista 10\n",
      "Elemento 3\n",
      "Tamanho da lista 10\n",
      "Elemento 4\n",
      "Tamanho da lista 10\n",
      "Elemento 5\n",
      "Tamanho da lista 10\n",
      "Elemento 6\n",
      "Tamanho da lista 4\n",
      "Elemento 7\n",
      "Tamanho da lista 4\n",
      "Elemento 8\n",
      "Tamanho da lista 4\n",
      "Elemento 9\n",
      "Tamanho da lista 1\n"
     ]
    }
   ],
   "source": [
    "while not q.isEmpty():\n",
    "    print(f\"Elemento {q.dequeue()}\")\n",
    "    print(f\"Tamanho da lista {len(q)}\") # sobrecarga - len(q) mesmo que q.__len__(q)"
   ]
  },
  {
   "cell_type": "markdown",
   "metadata": {},
   "source": [
    "### Complexidade das operações"
   ]
  },
  {
   "cell_type": "markdown",
   "metadata": {},
   "source": [
    "| Operação        |  Complexidade| Uso          |   Descrição     |\n",
    "|-----------------|:------------:|:------------:|------------------:|\n",
    "|Criação da fila  | O(1)         | q=Queue()    |  chama o construtor|\n",
    "|dequeue          |  O(1)        | a=q.dequeue()| retorna o primeiro item adicionado e o remove de q|\n",
    "|enqueue          | O(1)         |q.enqueue(a)  | adiciona o item a à fila q|\n",
    "|front            | O(1)         |a=q.front()   | retorna o inicio da pilha sem remove-lo de q|\n",
    "|isEmpty          |  O(1)        | q.isEmpty()  |retorna *True* se q está vazia|"
   ]
  },
  {
   "cell_type": "markdown",
   "metadata": {},
   "source": [
    "## Exercício"
   ]
  },
  {
   "cell_type": "markdown",
   "metadata": {},
   "source": [
    "Implemente a fila usando como base a lista ligada *LinkedList*"
   ]
  },
  {
   "cell_type": "code",
   "execution_count": null,
   "metadata": {
    "collapsed": true
   },
   "outputs": [],
   "source": []
  }
 ],
 "metadata": {
  "kernelspec": {
   "display_name": "Python 3",
   "language": "python",
   "name": "python3"
  },
  "language_info": {
   "codemirror_mode": {
    "name": "ipython",
    "version": 3
   },
   "file_extension": ".py",
   "mimetype": "text/x-python",
   "name": "python",
   "nbconvert_exporter": "python",
   "pygments_lexer": "ipython3",
   "version": "3.6.6"
  }
 },
 "nbformat": 4,
 "nbformat_minor": 2
}
